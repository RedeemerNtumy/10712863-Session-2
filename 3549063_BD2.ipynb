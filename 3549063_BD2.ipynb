{
  "metadata": {
    "kernelspec": {
      "name": "python",
      "display_name": "Python (Pyodide)",
      "language": "python"
    },
    "language_info": {
      "codemirror_mode": {
        "name": "python",
        "version": 3
      },
      "file_extension": ".py",
      "mimetype": "text/x-python",
      "name": "python",
      "nbconvert_exporter": "python",
      "pygments_lexer": "ipython3",
      "version": "3.8"
    },
    "colab": {
      "provenance": [],
      "include_colab_link": true
    }
  },
  "nbformat_minor": 0,
  "nbformat": 4,
  "cells": [
    {
      "cell_type": "markdown",
      "metadata": {
        "id": "view-in-github",
        "colab_type": "text"
      },
      "source": [
        "<a href=\"https://colab.research.google.com/github/RedeemerNtumy/10712863-Session-2/blob/master/3549063_BD2.ipynb\" target=\"_parent\"><img src=\"https://colab.research.google.com/assets/colab-badge.svg\" alt=\"Open In Colab\"/></a>"
      ]
    },
    {
      "cell_type": "markdown",
      "source": [
        "# University of Stirling\n",
        "\n",
        "# ITNPBD2 Representing and Manipulating Data\n",
        "\n",
        "# Assignment Autumn 2025\n",
        "\n",
        "# A Consultancy Job for JC Penney\n",
        "\n",
        "This notebook forms the assignment instructions and submission document of the assignment for ITNPBD2. Read the instructions carefully and enter code into the cells as indicated.\n",
        "\n",
        "You will need these five files, which were in the Zip file you downloaded from the course webpage:\n",
        "\n",
        "- jcpenney_reviewers.json\n",
        "- jcpenney_products.json\n",
        "- products.csv\n",
        "- reviews.csv\n",
        "- users.csv\n",
        "\n",
        "The data in these files describes products that have been sold by the American retail giant, JC Penney, and reviews by customers who bought them. Note that the product data is real, but the customer data is synthetic.\n",
        "\n",
        "Your job is to process the data, as requested in the instructions in the markdown cells in this notebook."
      ],
      "metadata": {
        "id": "88hRG88iZSLg"
      }
    },
    {
      "cell_type": "markdown",
      "source": [
        "# Completing the Assignment\n",
        "\n",
        "Rename this file to be xxxxxx_BD2 where xxxxxx is your student number, then type your code and narrative description into the boxes provided. Add as many code and markdown cells as you need. The cells should contain:\n",
        "\n",
        "- **Text narrative describing what you did with the data**\n",
        "- **The code that performs the task you have described**\n",
        "- **Comments that explain your code**\n",
        "\n",
        "The final structure (in PDF) of your report must:\n",
        "- **Start from the main insights observed (max 5 pages)**\n",
        "- **Include as an appendix the source code used for producing those insights (max 15 pages)**\n",
        "- **Include an AI cover sheet (provided on Canvas), which must contain a link to a versioned notebook file in OneDrive or another platform for version checks.**"
      ],
      "metadata": {
        "id": "qUkWChuTZSLh"
      }
    },
    {
      "cell_type": "markdown",
      "source": [
        "# Marking Scheme\n",
        "The assessment will be marked against the university Common Marking Scheme (CMS)\n",
        "\n",
        "Here is a summary of what you need to achieve to gain a grade in the major grade bands:\n",
        "\n",
        "|Grade|Requirement|\n",
        "|:---|:---|\n",
        "| Fail | You will fail if your code does not run or does not achieve even the basics of the task. You may also fail if you submit code without either comments or a text explanation of what the code does.|\n",
        "| Pass | To pass, you must submit sufficient working code to show that you have mastered the basics of the task, even if not everything works completely. You must include some justifications for your choice of methods, but without mentioning alternatives. |\n",
        "| Merit | For a merit, your code must be mostly correct, with only small problems or parts missing, and your comments must be useful rather than simply re-stating the code in English. Most choices for methods and structures should be explained and alternatives mentioned. |\n",
        "| Distinction | For a distinction, your code must be working, correct, and well commented and shows an appreciation of style, efficiency and reliability. All choices for methods and structures are concisely justified and alternatives are given well thought considerations. For a distinction, your work should be good enough to present to executives at the company.|\n",
        "\n",
        "The full details of the CMS can be found here\n",
        "\n",
        "https://www.stir.ac.uk/about/professional-services/student-academic-and-corporate-services/academic-registry/academic-policy-and-practice/quality-handbook/assessment-policy-and-procedure/appendix-2-postgraduate-common-marking-scheme/\n",
        "\n",
        "Note that this means there are not certain numbers of marks allocated to each stage of the assignment. Your grade will reflect how well your solutions and comments demonstrate that you have achieved the learning outcomes of the task."
      ],
      "metadata": {
        "id": "aOIzOrkbZSLh"
      }
    },
    {
      "cell_type": "markdown",
      "source": [
        "## Submission\n",
        "When you are ready to submit, **print** your notebook as PDF (go to File -> Print Preview) in the Jupyter menu. Make sure you have run all the cells and that their output is displayed. Any lines of code or comments that are not visible in the pdf should be broken across several lines. You can then submit the file online.\n",
        "\n",
        "Late penalties will apply at a rate of three marks per day, up to a maximum of 7 days. After 7 days you will be given a mark of 0. Extensions will be considered under acceptable circumstances outside your control.\n",
        "\n",
        "## Academic Integrity\n",
        "\n",
        "This is an individual assignment, and so all submitted work must be fully your own work.\n",
        "\n",
        "The University of Stirling is committed to protecting the quality and standards of its awards. Consequently, the University seeks to promote and nurture academic integrity, support staff academic integrity, and support students to understand and develop good academic skills that facilitate academic integrity.\n",
        "\n",
        "In addition, the University deals decisively with all forms of Academic Misconduct.\n",
        "\n",
        "Where a student does not act with academic integrity, their work or behaviour may demonstrate Poor Academic Practice or it may represent Academic Misconduct.\n",
        "\n",
        "### Poor Academic Practice\n",
        "\n",
        "Poor Academic Practice is defined as: \"The submission of any type of assessment with a lack of referencing or inadequate referencing which does not effectively acknowledge the origin of words, ideas, images, tables, diagrams, maps, code, sound and any other sources used in the assessment.\"\n",
        "\n",
        "### Academic Misconduct\n",
        "\n",
        "Academic Misconduct is defined as: \"any act or attempted act that does not demonstrate academic integrity and that may result in creating an unfair academic advantage for you or another person, or an academic disadvantage for any other member or member of the academic community.\"\n",
        "\n",
        "Plagiarism is presenting somebody else’s work as your own **and includes the use of artificial intelligence tools beyond AIAS Level 2 or the use of Large Language Models.**. Plagiarism is a form of academic misconduct and is taken very seriously by the University. Students found to have plagiarised work can have marks deducted and, in serious cases, even be expelled from the University. Do not submit any work that is not entirely your own. Do not collaborate with or get help from anybody else with this assignment.\n",
        "\n",
        "The University of Stirling's full policy on Academic Integrity can be found at:\n",
        "\n",
        "https://www.stir.ac.uk/about/professional-services/student-academic-and-corporate-services/academic-registry/academic-policy-and-practice/quality-handbook/academic-integrity-policy-and-academic-misconduct-procedure/"
      ],
      "metadata": {
        "id": "mRYf3_hnZSLi"
      }
    },
    {
      "cell_type": "markdown",
      "source": [
        "## The Assignment\n",
        "Your task with this assignment is to use the data provided to demonstrate your Python data manipulation skills.\n",
        "\n",
        "There are three `.csv` files and two `.json` files so you can process different types of data. The files also contain unstructured data in the form of natural language in English and links to images that you can access from the JC Penney website (use the field called `product_image_urls`).\n",
        "\n",
        "Start with easy tasks to show you can read in a file, create some variables and data structures, and manipulate their contents. Then move onto something more interesting.\n",
        "\n",
        "Look at the data that we provided with this assessment and think of something interesting to do with it using whatever libraries you like. Describe what you decide to do with the data and why it might be interesting or useful to the company to do it.\n",
        "\n",
        "You can add additional data if you need to - either download it or access it using `requests`. Produce working code to implement your ideas in as many cells as you need below. There is no single right answer, the aim is to simply show you are competent in using python for data analysis. Exactly how you do that is up to you.\n",
        "\n",
        "For a distinction class grade, this must show originality, creative thinking, and insights beyond what you've been taught directly on the module."
      ],
      "metadata": {
        "id": "hqO9BLWDZSLi"
      }
    },
    {
      "cell_type": "markdown",
      "source": [
        "## Structure\n",
        "You may structure the appendix of the project how you wish, but here is a suggested guideline to help you organise your work, based on the CRISP-DM data science methodology:\n",
        "\n",
        " 1. **Business understanding** - What business context is the data coming from? What insights would be valuable in that context, and what data would be required for that purporse?\n",
        " 2. **Data understanding and preparation** - Explore the data and show you understand its structure and relations, with the aid of appropriate visualisation techniques. Assess the data quality, which insights you would be able to answer from it, and what preparation the data would require. Add new data from another source if required to bring new insights to the data you already have.\n",
        " 3. **Data modeling (optional)** - Would modeling be required for the insights you have considered? Use appropriate techniques, if so.\n",
        " 4. **Evaluation and deployment** - How do the insights you obtained help the company, and how can should they be adopted in their business? If modeling techniques have been adopted, are their use scientifically sound and how should they be mantained?"
      ],
      "metadata": {
        "id": "lhsnl8qfZSLi"
      }
    },
    {
      "cell_type": "markdown",
      "source": [
        "# Remember to make sure you are working completely on your own.\n",
        "# Don't work in a group or with a friend\n"
      ],
      "metadata": {
        "id": "TIUs_9LNZSLj"
      }
    },
    {
      "cell_type": "code",
      "source": [
        "# Put your code and comments in cells below here\n",
        "# Add as many cells as you need"
      ],
      "metadata": {
        "id": "9_R1RGCaZSLj"
      },
      "outputs": [],
      "execution_count": null
    },
    {
      "cell_type": "code",
      "source": [],
      "metadata": {
        "id": "y2ThNCktZSLk"
      },
      "outputs": [],
      "execution_count": null
    }
  ]
}